{
 "cells": [
  {
   "cell_type": "markdown",
   "id": "6b9b26a5",
   "metadata": {},
   "source": [
    "### Load Rents and space from immowelt.de and House prices to get cap rates for real estate offers "
   ]
  },
  {
   "cell_type": "code",
   "execution_count": 71,
   "id": "0078e818",
   "metadata": {},
   "outputs": [],
   "source": [
    "# Import requests and BeautifulSoup libraries\n",
    "import requests\n",
    "from bs4 import BeautifulSoup\n",
    "\n",
    "# Define the URL to scrape\n",
    "url = \"https://www.immowelt.de/suche/jena/wohnungen/kaufen?ama=150&ami=100&d=true&sd=DESC&sf=RELEVANCE&sp=1\"\n",
    "\n",
    "# Send a GET request and get the HTML content\n",
    "response = requests.get(url)\n",
    "html = response.text"
   ]
  },
  {
   "cell_type": "code",
   "execution_count": 74,
   "id": "6291374d",
   "metadata": {},
   "outputs": [],
   "source": [
    "from selenium import webdriver\n",
    "\n",
    "# Create a webdriver instance\n",
    "driver = webdriver.Chrome()\n",
    "\n",
    "# Load the website\n",
    "url = \"https://www.immowelt.de/suche/jena/wohnungen/kaufen?ama=150&ami=100&d=true&sd=DESC&sf=RELEVANCE&sp=1z\"\n",
    "driver.get(url)\n",
    "\n",
    "# Wait for the website to load\n",
    "driver.implicitly_wait(10)\n",
    "\n",
    "# Get the HTML content of the website\n",
    "html = driver.page_source\n",
    "\n",
    "# Close the webdriver\n",
    "driver.close()"
   ]
  },
  {
   "cell_type": "code",
   "execution_count": 56,
   "id": "a1afe56b",
   "metadata": {},
   "outputs": [],
   "source": [
    "#print(html)"
   ]
  },
  {
   "cell_type": "code",
   "execution_count": 16,
   "id": "62ffa3b6",
   "metadata": {},
   "outputs": [],
   "source": [
    "# Find all <div> elements that have a \"data-test\" attribute\n",
    "#listings = soup.find_all(\"div\", attrs={\"data-test\": True})\n"
   ]
  },
  {
   "cell_type": "code",
   "execution_count": 75,
   "id": "33bc5bb0",
   "metadata": {},
   "outputs": [
    {
     "name": "stdout",
     "output_type": "stream",
     "text": [
      "[['325.000 €', '113 m²', '4 Zi.'], ['691.000 €', '122.8 m²', '4 Zi.'], ['656.000 €', '113.6 m²', '4 Zi.'], ['624.000 €', '113.6 m²', '4 Zi.'], ['617.000 €', '135 m²', '4.5 Zi.'], ['829.375 €', '132.7 m²', '3 Zi.'], ['440.000 €', '144 m²', '5 Zi.'], ['360.000 €', '119 m²', '4 Zi.'], ['595.000 €', '141 m²', '4 Zi.'], ['531.000 €', '113 m²', '5 Zi.'], ['365.000 €', '112 m²', '5 Zi.']]\n"
     ]
    }
   ],
   "source": [
    "# Import BeautifulSoup and re\n",
    "from bs4 import BeautifulSoup\n",
    "import re\n",
    "\n",
    "# Parse the HTML content with BeautifulSoup\n",
    "soup = BeautifulSoup(html, \"html.parser\")\n",
    "\n",
    "# Find all <div> elements that have a class name that starts with \"KeyFacts\"\n",
    "listings = soup.find_all(\"div\", class_=re.compile(\"^KeyFacts\"))\n",
    "\n",
    "# Create an empty list to store the lists of information\n",
    "info_list = []\n",
    "\n",
    "# Loop through each listing\n",
    "for listing in listings:\n",
    "    # Find all <div> elements inside the listing that have a \"data-test\" attribute\n",
    "    divs = listing.find_all(\"div\", attrs={\"data-test\": True})\n",
    "    # Create an empty list to store the information for each listing\n",
    "    info = []\n",
    "    # Loop through each <div> element\n",
    "    for div in divs:\n",
    "        # Get the text content of the <div> element\n",
    "        div_text = div.text.strip()\n",
    "        # Append the text to the info list\n",
    "        info.append(div_text)\n",
    "    # Append the info list to the info_list\n",
    "    info_list.append(info)\n",
    "\n",
    "# Print the list of lists\n",
    "print(info_list)\n"
   ]
  },
  {
   "cell_type": "code",
   "execution_count": 77,
   "id": "eb57b19b",
   "metadata": {},
   "outputs": [
    {
     "name": "stdout",
     "output_type": "stream",
     "text": [
      "325000 €\n",
      "113 m²\n",
      "691000 €\n",
      "122.8 m²\n",
      "656000 €\n",
      "113.6 m²\n",
      "624000 €\n",
      "113.6 m²\n",
      "617000 €\n",
      "135 m²\n",
      "829375 €\n",
      "132.7 m²\n",
      "440000 €\n",
      "144 m²\n",
      "360000 €\n",
      "119 m²\n",
      "595000 €\n",
      "141 m²\n",
      "531000 €\n",
      "113 m²\n",
      "365000 €\n",
      "112 m²\n"
     ]
    }
   ],
   "source": [
    "# Import numpy\n",
    "import numpy as np\n",
    "\n",
    "# Create a list of lists that contains the rent and living space for each apartment listing\n",
    "#rent_space_list = [['791-1.493 €', '67-139 m²'], ['1.580 €', '125.81 m²'], ['1.815 €', '134 m²'], ['1.014 €', '92.37 m²'], ['1.383 €', '117.06 m²']]\n",
    "rent_space_list = info_list.copy()\n",
    "# Create an empty list to store the €/m² prices\n",
    "avg_list = []\n",
    "rent_list = []\n",
    "space_list = []\n",
    "\n",
    "# Loop through each list in the rent_space_list\n",
    "for rent_space in rent_space_list:\n",
    "    # Get the rent and living space as strings\n",
    "    rent_str = rent_space[0].replace(\".\", \"\")\n",
    "    space_str = rent_space[1]\n",
    "    print(rent_str)\n",
    "    print(space_str)\n",
    "    # Check if the rent or living space has a range\n",
    "    if \"-\" in rent_str or \"-\" in space_str:\n",
    "        # Split the strings by \"-\"\n",
    "        rent_split = rent_str.split(\"-\")\n",
    "        #space_split = space_str.split(\"-\")\n",
    "        # Get the lower and upper bounds of the rent and living space as floats\n",
    "        rent_low = float(rent_split[0])\n",
    "        rent_high = float(rent_split[1][:-2]) # Remove the \" €\" at the end\n",
    "        space_low = float(space_split[0])\n",
    "        space_high = float(space_split[1][:-3]) # Remove the \" m²\" at the end\n",
    "        # Calculate the lower and upper bounds of the €/m² price as floats\n",
    "        price_low = rent_low / space_high\n",
    "        price_high = rent_high / space_low\n",
    "        # Calculate the average of the lower and upper bounds of the €/m² price as a float\n",
    "        price_avg = (price_low + price_high) / 2\n",
    "    else:\n",
    "        # Get the rent and living space as floats\n",
    "        rent = float(rent_str[:-2]) # Remove the \" €\" at the end\n",
    "        space = float(space_str[:-3]) # Remove the \" m²\" at the end\n",
    "        # Calculate the €/m² price as a float\n",
    "        price_avg = rent / space\n",
    "        rent_list.append(rent)\n",
    "        space_list.append(space)\n",
    "    avg_list.append(price_avg)"
   ]
  },
  {
   "cell_type": "code",
   "execution_count": 83,
   "id": "efd51e0f",
   "metadata": {},
   "outputs": [
    {
     "name": "stdout",
     "output_type": "stream",
     "text": [
      "[2876.1061946902655, 5627.035830618893, 5774.647887323944, 5492.957746478874, 4570.37037037037, 6250.000000000001, 3055.5555555555557, 3025.2100840336134, 4219.858156028369, 4699.115044247787, 3258.9285714285716]\n",
      "[325000.0, 691000.0, 656000.0, 624000.0, 617000.0, 829375.0, 440000.0, 360000.0, 595000.0, 531000.0, 365000.0]\n",
      "[113.0, 122.8, 113.6, 113.6, 135.0, 132.7, 144.0, 119.0, 141.0, 113.0, 112.0]\n"
     ]
    }
   ],
   "source": [
    "print(avg_list)\n",
    "print(rent_list)\n",
    "print(space_list)"
   ]
  },
  {
   "cell_type": "code",
   "execution_count": 84,
   "id": "75775a30",
   "metadata": {},
   "outputs": [
    {
     "name": "stdout",
     "output_type": "stream",
     "text": [
      "Price per m*2 mean: 4440.89\n",
      "Space mean: 123.61\n",
      "Rent mean: 548488.64\n",
      "Price per m*2 median: 4570.37\n",
      "Space median: 119.0\n",
      "Rent median: 595000.0\n"
     ]
    }
   ],
   "source": [
    "# Calculate the mean of the price_list as a float\n",
    "price_mean = np.mean(avg_list)\n",
    "\n",
    "# Print the mean of the price_list rounded to two decimals\n",
    "print(f\"Price per m*2 mean: {round(price_mean, 2)}\")\n",
    "print(f\"Space mean: {round(np.mean(space_list), 2)}\")\n",
    "print(f\"Rent mean: {round(np.mean(rent_list), 2)}\")\n",
    "\n",
    "print(f\"Price per m*2 median: {round(np.median(avg_list), 2)}\")\n",
    "print(f\"Space median: {round(np.median(space_list), 2)}\")\n",
    "print(f\"Rent median: {round(np.median(rent_list), 2)}\")"
   ]
  },
  {
   "cell_type": "code",
   "execution_count": 57,
   "id": "5250034d",
   "metadata": {},
   "outputs": [],
   "source": [
    "# Import requests and BeautifulSoup libraries\n",
    "import requests\n",
    "from bs4 import BeautifulSoup\n",
    "\n",
    "# Define the URL to scrape\n",
    "url = \"https://www.immowelt.de/suche/jena/haeuser/kaufen?ama=180&ami=100&d=true&sd=DESC&sf=RELEVANCE&sp=1\"\n",
    "\n",
    "# Send a GET request and get the HTML content\n",
    "response = requests.get(url)\n",
    "html = response.text"
   ]
  },
  {
   "cell_type": "code",
   "execution_count": 58,
   "id": "42d9f622",
   "metadata": {},
   "outputs": [
    {
     "name": "stdout",
     "output_type": "stream",
     "text": [
      "[['459.000 â\\x82¬', '110 mÂ²', '5 Zi.'], ['519.000 â\\x82¬', '128 mÂ²', '8 Zi.'], ['440.000 â\\x82¬', '160 mÂ²', '7.5 Zi.'], ['650.000 â\\x82¬', '146.6 mÂ²', '5 Zi.'], ['225.000 â\\x82¬', '130 mÂ²', '5 Zi.'], ['149.000 â\\x82¬', '143.5 mÂ²', '4 Zi.'], ['640.000 â\\x82¬', '167.48 mÂ²', '4 Zi.'], ['759.000 â\\x82¬', '160 mÂ²', '6 Zi.'], ['198.000 â\\x82¬', '159 mÂ²', ''], ['417.600 â\\x82¬', '142.84 mÂ²', '6 Zi.'], ['849.500 â\\x82¬', '126.2 mÂ²', '5 Zi.'], ['695.000 â\\x82¬', '150 mÂ²', '5 Zi.'], ['459.000 â\\x82¬', '130 mÂ²', '5 Zi.'], ['585.000 â\\x82¬', '125 mÂ²', '5 Zi.'], ['725.000 â\\x82¬', '162.12 mÂ²', '4 Zi.'], ['749.000 â\\x82¬', '179 mÂ²', '7 Zi.'], ['560.000 â\\x82¬', '116 mÂ²', '3 Zi.'], ['730.000 â\\x82¬', '150 mÂ²', '5 Zi.'], ['599.000 â\\x82¬', '155 mÂ²', '7 Zi.'], ['306.349 â\\x82¬', '172.25 mÂ²', '5 Zi.']]\n"
     ]
    }
   ],
   "source": [
    "import re\n",
    "\n",
    "# Parse the HTML content with BeautifulSoup\n",
    "soup = BeautifulSoup(html, \"html.parser\")\n",
    "\n",
    "# Find all <div> elements that have a class name that starts with \"KeyFacts\"\n",
    "listings = soup.find_all(\"div\", class_=re.compile(\"^KeyFacts\"))\n",
    "\n",
    "# Create an empty list to store the lists of information\n",
    "info_list = []\n",
    "\n",
    "# Loop through each listing\n",
    "for listing in listings:\n",
    "    # Find all <div> elements inside the listing that have a \"data-test\" attribute\n",
    "    divs = listing.find_all(\"div\", attrs={\"data-test\": True})\n",
    "    # Create an empty list to store the information for each listing\n",
    "    info = []\n",
    "    # Loop through each <div> element\n",
    "    for div in divs:\n",
    "        # Get the text content of the <div> element\n",
    "        div_text = div.text.strip()\n",
    "        # Append the text to the info list\n",
    "        info.append(div_text)\n",
    "    # Append the info list to the info_list\n",
    "    info_list.append(info)\n",
    "\n",
    "# Print the list of lists\n",
    "print(info_list)"
   ]
  },
  {
   "cell_type": "code",
   "execution_count": 69,
   "id": "8882cfd2",
   "metadata": {},
   "outputs": [
    {
     "name": "stdout",
     "output_type": "stream",
     "text": [
      "459000\n",
      "110\n",
      "519000\n",
      "128\n",
      "440000\n",
      "160\n",
      "650000\n",
      "146.6\n",
      "225000\n",
      "130\n",
      "149000\n",
      "143.5\n",
      "640000\n",
      "167.48\n",
      "759000\n",
      "160\n",
      "198000\n",
      "159\n",
      "417600\n",
      "142.84\n",
      "849500\n",
      "126.2\n",
      "695000\n",
      "150\n",
      "459000\n",
      "130\n",
      "585000\n",
      "125\n",
      "725000\n",
      "162.12\n",
      "749000\n",
      "179\n",
      "560000\n",
      "116\n",
      "730000\n",
      "150\n",
      "599000\n",
      "155\n",
      "306349\n",
      "172.25\n"
     ]
    }
   ],
   "source": [
    "# Import numpy\n",
    "import numpy as np\n",
    "\n",
    "# Create a list of lists that contains the rent and living space for each apartment listing\n",
    "#rent_space_list = [['791-1.493 €', '67-139 m²'], ['1.580 €', '125.81 m²'], ['1.815 €', '134 m²'], ['1.014 €', '92.37 m²'], ['1.383 €', '117.06 m²']]\n",
    "rent_space_list = info_list.copy()\n",
    "# Create an empty list to store the €/m² prices\n",
    "avg_list = []\n",
    "rent_list = []\n",
    "space_list = []\n",
    "\n",
    "# Loop through each list in the rent_space_list\n",
    "for rent_space in rent_space_list:\n",
    "    # Get the rent and living space as strings\n",
    "    rent_str = rent_space[0].replace(\".\", \"\").split(\" \")[0]\n",
    "    space_str = rent_space[1].split(\" \")[0]\n",
    "    print(rent_str)\n",
    "    print(space_str)\n",
    "    # Check if the rent or living space has a range\n",
    "    if \"-\" in rent_str or \"-\" in space_str:\n",
    "        # Split the strings by \"-\"\n",
    "        rent_split = rent_str.split(\"-\")\n",
    "        #space_split = space_str.split(\"-\")\n",
    "        # Get the lower and upper bounds of the rent and living space as floats\n",
    "        rent_low = float(rent_split[0])\n",
    "        rent_high = float(rent_split[1]) \n",
    "        space_low = float(space_split[0])\n",
    "        space_high = float(space_split[1])\n",
    "        # Calculate the lower and upper bounds of the €/m² price as floats\n",
    "        price_low = rent_low / space_high\n",
    "        price_high = rent_high / space_low\n",
    "        # Calculate the average of the lower and upper bounds of the €/m² price as a float\n",
    "        price_avg = (price_low + price_high) / 2\n",
    "    else:\n",
    "        # Get the rent and living space as floats\n",
    "        rent = float(rent_str[:]) \n",
    "        space = float(space_str[:])\n",
    "        # Calculate the €/m² price as a float\n",
    "        price_avg = rent / space\n",
    "        rent_list.append(rent)\n",
    "        space_list.append(space)\n",
    "    # Append the €/m² price to the price_list\n",
    "    avg_list.append(price_avg)"
   ]
  },
  {
   "cell_type": "code",
   "execution_count": 70,
   "id": "88eac8f3",
   "metadata": {},
   "outputs": [
    {
     "name": "stdout",
     "output_type": "stream",
     "text": [
      "Price per m*2 mean: 3724.17\n",
      "Space mean: 145.65\n",
      "Rent mean: 535722.45\n",
      "Price per m*2 median: 4113.71\n",
      "Space median: 148.3\n",
      "Rent median: 572500.0\n"
     ]
    }
   ],
   "source": [
    "# Print the mean of the price_list rounded to two decimals\n",
    "print(f\"Price per m*2 mean: {round(np.mean(avg_list), 2)}\")\n",
    "print(f\"Space mean: {round(np.mean(space_list), 2)}\")\n",
    "print(f\"Rent mean: {round(np.mean(rent_list), 2)}\")\n",
    "\n",
    "print(f\"Price per m*2 median: {round(np.median(avg_list), 2)}\")\n",
    "print(f\"Space median: {round(np.median(space_list), 2)}\")\n",
    "print(f\"Rent median: {round(np.median(rent_list), 2)}\")"
   ]
  },
  {
   "cell_type": "code",
   "execution_count": null,
   "id": "11b2f5f8",
   "metadata": {},
   "outputs": [],
   "source": []
  }
 ],
 "metadata": {
  "kernelspec": {
   "display_name": "Python 3 (ipykernel)",
   "language": "python",
   "name": "python3"
  },
  "language_info": {
   "codemirror_mode": {
    "name": "ipython",
    "version": 3
   },
   "file_extension": ".py",
   "mimetype": "text/x-python",
   "name": "python",
   "nbconvert_exporter": "python",
   "pygments_lexer": "ipython3",
   "version": "3.11.3"
  }
 },
 "nbformat": 4,
 "nbformat_minor": 5
}
